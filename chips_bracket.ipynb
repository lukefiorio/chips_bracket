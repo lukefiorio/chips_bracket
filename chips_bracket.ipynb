{
 "cells": [
  {
   "cell_type": "code",
   "execution_count": 1,
   "id": "pending-provincial",
   "metadata": {},
   "outputs": [],
   "source": [
    "import requests\n",
    "import pandas as pd\n",
    "import re\n",
    "import seaborn as sns\n",
    "import matplotlib.pyplot as plt\n",
    "import numpy as np"
   ]
  },
  {
   "cell_type": "markdown",
   "id": "careful-indication",
   "metadata": {},
   "source": [
    "Read in bracket statistics from the Player Index page on the Chip's Bracket site.\n",
    "\n",
    "Pandas will read in each html table to a df, so we need to take the extra step of identifying the table that contains all of the bracket statistics.\n",
    "\n",
    "From inspection, we see that the bracket table is the only one with more than a few rows.  We know this pool always has at least 100 submissions so we'll set 100 as our cut-point to pluck out the bracket table. "
   ]
  },
  {
   "cell_type": "code",
   "execution_count": 2,
   "id": "ranking-dakota",
   "metadata": {},
   "outputs": [
    {
     "data": {
      "text/html": [
       "<div>\n",
       "<style scoped>\n",
       "    .dataframe tbody tr th:only-of-type {\n",
       "        vertical-align: middle;\n",
       "    }\n",
       "\n",
       "    .dataframe tbody tr th {\n",
       "        vertical-align: top;\n",
       "    }\n",
       "\n",
       "    .dataframe thead tr th {\n",
       "        text-align: left;\n",
       "    }\n",
       "</style>\n",
       "<table border=\"1\" class=\"dataframe\">\n",
       "  <thead>\n",
       "    <tr>\n",
       "      <th></th>\n",
       "      <th>Place</th>\n",
       "      <th>Mover/Loser</th>\n",
       "      <th>Name Last,First</th>\n",
       "      <th>TotalPoints</th>\n",
       "      <th>PossiblePoints</th>\n",
       "      <th>Points Gauge</th>\n",
       "      <th>PickPct.</th>\n",
       "      <th colspan=\"5\" halign=\"left\">Final</th>\n",
       "      <th>PickedChamp</th>\n",
       "    </tr>\n",
       "    <tr>\n",
       "      <th></th>\n",
       "      <th>Place</th>\n",
       "      <th>Mover/Loser</th>\n",
       "      <th>Name Last,First</th>\n",
       "      <th>TotalPoints</th>\n",
       "      <th>PossiblePoints</th>\n",
       "      <th>Points Gauge</th>\n",
       "      <th>PickPct.</th>\n",
       "      <th>32</th>\n",
       "      <th>16</th>\n",
       "      <th>8</th>\n",
       "      <th>4</th>\n",
       "      <th>2</th>\n",
       "      <th>PickedChamp</th>\n",
       "    </tr>\n",
       "  </thead>\n",
       "  <tbody>\n",
       "    <tr>\n",
       "      <th>0</th>\n",
       "      <td>284t</td>\n",
       "      <td>(-121)</td>\n",
       "      <td>1 Berry, Deiondrea</td>\n",
       "      <td>23</td>\n",
       "      <td>153</td>\n",
       "      <td>23130</td>\n",
       "      <td>61%</td>\n",
       "      <td>21</td>\n",
       "      <td>1</td>\n",
       "      <td>0</td>\n",
       "      <td>0</td>\n",
       "      <td>0</td>\n",
       "      <td>??</td>\n",
       "    </tr>\n",
       "    <tr>\n",
       "      <th>1</th>\n",
       "      <td>31t</td>\n",
       "      <td>(+132)</td>\n",
       "      <td>1PEDERSEN,ROBYNALAN</td>\n",
       "      <td>27</td>\n",
       "      <td>163</td>\n",
       "      <td>27136</td>\n",
       "      <td>67%</td>\n",
       "      <td>21</td>\n",
       "      <td>3</td>\n",
       "      <td>0</td>\n",
       "      <td>0</td>\n",
       "      <td>0</td>\n",
       "      <td>??</td>\n",
       "    </tr>\n",
       "    <tr>\n",
       "      <th>2</th>\n",
       "      <td>51t</td>\n",
       "      <td>(+23)</td>\n",
       "      <td>2 Berry, Deiondrea</td>\n",
       "      <td>26</td>\n",
       "      <td>152</td>\n",
       "      <td>26126</td>\n",
       "      <td>67%</td>\n",
       "      <td>22</td>\n",
       "      <td>2</td>\n",
       "      <td>0</td>\n",
       "      <td>0</td>\n",
       "      <td>0</td>\n",
       "      <td>??</td>\n",
       "    </tr>\n",
       "    <tr>\n",
       "      <th>3</th>\n",
       "      <td>185t</td>\n",
       "      <td>(-111)</td>\n",
       "      <td>2 McNamara, justin</td>\n",
       "      <td>24</td>\n",
       "      <td>162</td>\n",
       "      <td>24138</td>\n",
       "      <td>64%</td>\n",
       "      <td>22</td>\n",
       "      <td>1</td>\n",
       "      <td>0</td>\n",
       "      <td>0</td>\n",
       "      <td>0</td>\n",
       "      <td>??</td>\n",
       "    </tr>\n",
       "    <tr>\n",
       "      <th>4</th>\n",
       "      <td>483t</td>\n",
       "      <td>(-35)</td>\n",
       "      <td>2PEDERSEN,ROBYNALAN</td>\n",
       "      <td>19</td>\n",
       "      <td>147</td>\n",
       "      <td>19128</td>\n",
       "      <td>50%</td>\n",
       "      <td>17</td>\n",
       "      <td>1</td>\n",
       "      <td>0</td>\n",
       "      <td>0</td>\n",
       "      <td>0</td>\n",
       "      <td>??</td>\n",
       "    </tr>\n",
       "  </tbody>\n",
       "</table>\n",
       "</div>"
      ],
      "text/plain": [
       "  Place Mover/Loser      Name Last,First TotalPoints PossiblePoints  \\\n",
       "  Place Mover/Loser      Name Last,First TotalPoints PossiblePoints   \n",
       "0  284t      (-121)   1 Berry, Deiondrea          23            153   \n",
       "1   31t      (+132)  1PEDERSEN,ROBYNALAN          27            163   \n",
       "2   51t       (+23)   2 Berry, Deiondrea          26            152   \n",
       "3  185t      (-111)   2 McNamara, justin          24            162   \n",
       "4  483t       (-35)  2PEDERSEN,ROBYNALAN          19            147   \n",
       "\n",
       "  Points Gauge PickPct. Final             PickedChamp  \n",
       "  Points Gauge PickPct.    32 16  8  4  2 PickedChamp  \n",
       "0        23130      61%    21  1  0  0  0          ??  \n",
       "1        27136      67%    21  3  0  0  0          ??  \n",
       "2        26126      67%    22  2  0  0  0          ??  \n",
       "3        24138      64%    22  1  0  0  0          ??  \n",
       "4        19128      50%    17  1  0  0  0          ??  "
      ]
     },
     "execution_count": 2,
     "metadata": {},
     "output_type": "execute_result"
    }
   ],
   "source": [
    "url = \"http://www.mysideline.com/u/2585/collegebbmens/configurablestandings.htm\"\n",
    "dfs = pd.read_html(url)\n",
    "\n",
    "for i, df in enumerate(dfs):\n",
    "    # at least 100 rows (brackets table)\n",
    "    if dfs[i].shape[0] >= 100:\n",
    "        bracket_df = df\n",
    "        break\n",
    "\n",
    "# preview df\n",
    "bracket_df.head()"
   ]
  },
  {
   "cell_type": "markdown",
   "id": "comfortable-municipality",
   "metadata": {},
   "source": [
    "We also notice that the first table contains the as of date."
   ]
  },
  {
   "cell_type": "code",
   "execution_count": 3,
   "id": "intellectual-gender",
   "metadata": {},
   "outputs": [
    {
     "data": {
      "text/html": [
       "<div>\n",
       "<style scoped>\n",
       "    .dataframe tbody tr th:only-of-type {\n",
       "        vertical-align: middle;\n",
       "    }\n",
       "\n",
       "    .dataframe tbody tr th {\n",
       "        vertical-align: top;\n",
       "    }\n",
       "\n",
       "    .dataframe thead th {\n",
       "        text-align: right;\n",
       "    }\n",
       "</style>\n",
       "<table border=\"1\" class=\"dataframe\">\n",
       "  <thead>\n",
       "    <tr style=\"text-align: right;\">\n",
       "      <th></th>\n",
       "      <th>0</th>\n",
       "      <th>1</th>\n",
       "      <th>2</th>\n",
       "    </tr>\n",
       "  </thead>\n",
       "  <tbody>\n",
       "    <tr>\n",
       "      <th>0</th>\n",
       "      <td>NaN</td>\n",
       "      <td>Chip's 2021 Tournament As of: 3/21/2021 at 8:2...</td>\n",
       "      <td>NaN</td>\n",
       "    </tr>\n",
       "  </tbody>\n",
       "</table>\n",
       "</div>"
      ],
      "text/plain": [
       "    0                                                  1   2\n",
       "0 NaN  Chip's 2021 Tournament As of: 3/21/2021 at 8:2... NaN"
      ]
     },
     "execution_count": 3,
     "metadata": {},
     "output_type": "execute_result"
    }
   ],
   "source": [
    "dfs[0]"
   ]
  },
  {
   "cell_type": "markdown",
   "id": "prompt-label",
   "metadata": {},
   "source": [
    "We can parse out the as of date using regex."
   ]
  },
  {
   "cell_type": "code",
   "execution_count": 4,
   "id": "equivalent-ancient",
   "metadata": {},
   "outputs": [
    {
     "name": "stdout",
     "output_type": "stream",
     "text": [
      "3/21/2021 at 8:26 PM ET\n"
     ]
    }
   ],
   "source": [
    "# search full string length\n",
    "pd.options.display.max_colwidth = 200\n",
    "\n",
    "# regex to parse out the as of date\n",
    "date_search = re.search(r'(\\d+/\\d+/\\d+ at \\d+\\:\\d+ [A|P]M)', str(dfs[0][1]))\n",
    "as_of_date = date_search.group(1) + \" ET\"\n",
    "print(as_of_date)"
   ]
  },
  {
   "cell_type": "markdown",
   "id": "small-wednesday",
   "metadata": {},
   "source": [
    "Multi-index columna names"
   ]
  },
  {
   "cell_type": "code",
   "execution_count": 5,
   "id": "viral-profession",
   "metadata": {
    "scrolled": true
   },
   "outputs": [
    {
     "name": "stdout",
     "output_type": "stream",
     "text": [
      "<class 'pandas.core.frame.DataFrame'>\n",
      "RangeIndex: 511 entries, 0 to 510\n",
      "Data columns (total 13 columns):\n",
      " #   Column                              Non-Null Count  Dtype \n",
      "---  ------                              --------------  ----- \n",
      " 0   (Place, Place)                      511 non-null    object\n",
      " 1   (Mover/Loser, Mover/Loser)          511 non-null    object\n",
      " 2   (Name Last,First, Name Last,First)  511 non-null    object\n",
      " 3   (TotalPoints, TotalPoints)          511 non-null    int64 \n",
      " 4   (PossiblePoints, PossiblePoints)    511 non-null    int64 \n",
      " 5   (Points Gauge, Points Gauge)        511 non-null    int64 \n",
      " 6   (PickPct., PickPct.)                511 non-null    object\n",
      " 7   (Final, 32)                         511 non-null    int64 \n",
      " 8   (Final, 16)                         511 non-null    int64 \n",
      " 9   (Final, 8)                          511 non-null    int64 \n",
      " 10  (Final, 4)                          511 non-null    int64 \n",
      " 11  (Final, 2)                          511 non-null    int64 \n",
      " 12  (PickedChamp, PickedChamp)          511 non-null    object\n",
      "dtypes: int64(8), object(5)\n",
      "memory usage: 52.0+ KB\n"
     ]
    }
   ],
   "source": [
    "bracket_df.info()"
   ]
  },
  {
   "cell_type": "markdown",
   "id": "plain-amendment",
   "metadata": {},
   "source": [
    "Specify single index for column names"
   ]
  },
  {
   "cell_type": "code",
   "execution_count": 6,
   "id": "shared-craps",
   "metadata": {},
   "outputs": [],
   "source": [
    "col_names = []\n",
    "for i, col in enumerate(bracket_df.columns):\n",
    "    col_name = col[1] if col[0] == col[1] else col[0] + \"_\" + col[1]\n",
    "    col_names.append(col_name)\n",
    "    \n",
    "bracket_df.columns = col_names"
   ]
  },
  {
   "cell_type": "markdown",
   "id": "realistic-forwarding",
   "metadata": {},
   "source": [
    "Replace delimiters with `_`"
   ]
  },
  {
   "cell_type": "code",
   "execution_count": 7,
   "id": "designing-greenhouse",
   "metadata": {},
   "outputs": [],
   "source": [
    "bracket_df.columns = bracket_df.columns.\\\n",
    "    str.replace(\"/\", \"_\").\\\n",
    "    str.replace(\" \", \"_\").\\\n",
    "    str.replace(\",\", \"_\").str.lower()"
   ]
  },
  {
   "cell_type": "code",
   "execution_count": 8,
   "id": "blocked-maintenance",
   "metadata": {},
   "outputs": [
    {
     "data": {
      "text/html": [
       "<div>\n",
       "<style scoped>\n",
       "    .dataframe tbody tr th:only-of-type {\n",
       "        vertical-align: middle;\n",
       "    }\n",
       "\n",
       "    .dataframe tbody tr th {\n",
       "        vertical-align: top;\n",
       "    }\n",
       "\n",
       "    .dataframe thead th {\n",
       "        text-align: right;\n",
       "    }\n",
       "</style>\n",
       "<table border=\"1\" class=\"dataframe\">\n",
       "  <thead>\n",
       "    <tr style=\"text-align: right;\">\n",
       "      <th></th>\n",
       "      <th>place</th>\n",
       "      <th>mover_loser</th>\n",
       "      <th>name_last_first</th>\n",
       "      <th>totalpoints</th>\n",
       "      <th>possiblepoints</th>\n",
       "      <th>points_gauge</th>\n",
       "      <th>pickpct.</th>\n",
       "      <th>final_32</th>\n",
       "      <th>final_16</th>\n",
       "      <th>final_8</th>\n",
       "      <th>final_4</th>\n",
       "      <th>final_2</th>\n",
       "      <th>pickedchamp</th>\n",
       "    </tr>\n",
       "  </thead>\n",
       "  <tbody>\n",
       "    <tr>\n",
       "      <th>0</th>\n",
       "      <td>284t</td>\n",
       "      <td>(-121)</td>\n",
       "      <td>1 Berry, Deiondrea</td>\n",
       "      <td>23</td>\n",
       "      <td>153</td>\n",
       "      <td>23130</td>\n",
       "      <td>61%</td>\n",
       "      <td>21</td>\n",
       "      <td>1</td>\n",
       "      <td>0</td>\n",
       "      <td>0</td>\n",
       "      <td>0</td>\n",
       "      <td>??</td>\n",
       "    </tr>\n",
       "    <tr>\n",
       "      <th>1</th>\n",
       "      <td>31t</td>\n",
       "      <td>(+132)</td>\n",
       "      <td>1PEDERSEN,ROBYNALAN</td>\n",
       "      <td>27</td>\n",
       "      <td>163</td>\n",
       "      <td>27136</td>\n",
       "      <td>67%</td>\n",
       "      <td>21</td>\n",
       "      <td>3</td>\n",
       "      <td>0</td>\n",
       "      <td>0</td>\n",
       "      <td>0</td>\n",
       "      <td>??</td>\n",
       "    </tr>\n",
       "    <tr>\n",
       "      <th>2</th>\n",
       "      <td>51t</td>\n",
       "      <td>(+23)</td>\n",
       "      <td>2 Berry, Deiondrea</td>\n",
       "      <td>26</td>\n",
       "      <td>152</td>\n",
       "      <td>26126</td>\n",
       "      <td>67%</td>\n",
       "      <td>22</td>\n",
       "      <td>2</td>\n",
       "      <td>0</td>\n",
       "      <td>0</td>\n",
       "      <td>0</td>\n",
       "      <td>??</td>\n",
       "    </tr>\n",
       "    <tr>\n",
       "      <th>3</th>\n",
       "      <td>185t</td>\n",
       "      <td>(-111)</td>\n",
       "      <td>2 McNamara, justin</td>\n",
       "      <td>24</td>\n",
       "      <td>162</td>\n",
       "      <td>24138</td>\n",
       "      <td>64%</td>\n",
       "      <td>22</td>\n",
       "      <td>1</td>\n",
       "      <td>0</td>\n",
       "      <td>0</td>\n",
       "      <td>0</td>\n",
       "      <td>??</td>\n",
       "    </tr>\n",
       "    <tr>\n",
       "      <th>4</th>\n",
       "      <td>483t</td>\n",
       "      <td>(-35)</td>\n",
       "      <td>2PEDERSEN,ROBYNALAN</td>\n",
       "      <td>19</td>\n",
       "      <td>147</td>\n",
       "      <td>19128</td>\n",
       "      <td>50%</td>\n",
       "      <td>17</td>\n",
       "      <td>1</td>\n",
       "      <td>0</td>\n",
       "      <td>0</td>\n",
       "      <td>0</td>\n",
       "      <td>??</td>\n",
       "    </tr>\n",
       "  </tbody>\n",
       "</table>\n",
       "</div>"
      ],
      "text/plain": [
       "  place mover_loser      name_last_first  totalpoints  possiblepoints  \\\n",
       "0  284t      (-121)   1 Berry, Deiondrea           23             153   \n",
       "1   31t      (+132)  1PEDERSEN,ROBYNALAN           27             163   \n",
       "2   51t       (+23)   2 Berry, Deiondrea           26             152   \n",
       "3  185t      (-111)   2 McNamara, justin           24             162   \n",
       "4  483t       (-35)  2PEDERSEN,ROBYNALAN           19             147   \n",
       "\n",
       "   points_gauge pickpct.  final_32  final_16  final_8  final_4  final_2  \\\n",
       "0         23130      61%        21         1        0        0        0   \n",
       "1         27136      67%        21         3        0        0        0   \n",
       "2         26126      67%        22         2        0        0        0   \n",
       "3         24138      64%        22         1        0        0        0   \n",
       "4         19128      50%        17         1        0        0        0   \n",
       "\n",
       "  pickedchamp  \n",
       "0          ??  \n",
       "1          ??  \n",
       "2          ??  \n",
       "3          ??  \n",
       "4          ??  "
      ]
     },
     "execution_count": 8,
     "metadata": {},
     "output_type": "execute_result"
    }
   ],
   "source": [
    "bracket_df.head()"
   ]
  },
  {
   "cell_type": "markdown",
   "id": "architectural-recall",
   "metadata": {},
   "source": [
    "Convert `place` to numeric (strip the `'t'` in ties) and add derived field (`ties`) to indicate how many brackets tied at position."
   ]
  },
  {
   "cell_type": "code",
   "execution_count": 9,
   "id": "superior-white",
   "metadata": {},
   "outputs": [],
   "source": [
    "bracket_df['place'] = bracket_df['place'].str.replace('t', '').astype('int')\n",
    "bracket_df['ties']= bracket_df.place.map(bracket_df.place.value_counts())"
   ]
  },
  {
   "cell_type": "markdown",
   "id": "directed-smooth",
   "metadata": {},
   "source": [
    "Define a function to standardize player names to group individual players that submitted multiple brackers."
   ]
  },
  {
   "cell_type": "code",
   "execution_count": 10,
   "id": "alert-physics",
   "metadata": {},
   "outputs": [],
   "source": [
    "def clean_name(df, col):\n",
    "    \n",
    "    # omit digits at start of string\n",
    "    clean = [re.sub(r'^\\d+\\s*', r'', x) for x in df[col]]\n",
    "    \n",
    "    # omit digits mid-name, keep comma\n",
    "    clean = [re.sub(r',?\\s*,?\\d+\\s*[,|-]\\s*', r', ', x) for x in clean]\n",
    "    \n",
    "    # truncate string at first digit\n",
    "    clean = [re.sub(r'\\d.*', r'', x) for x in clean]\n",
    "\n",
    "    # drop [#-.] from string.\n",
    "    clean = [re.sub(r'[#\\-\\.]', r'', x) for x in clean]\n",
    "\n",
    "    # add space after comma if not present, then drop comma. strip whitespace & lowercase\n",
    "    clean = [re.sub(r'\\s*,\\s*', r' ', x).strip(' ').lower() for x in clean]\n",
    "    \n",
    "    # convert jr, sr to full suffix (create more \"distance\" between strings)\n",
    "    clean = [\n",
    "        re.sub(r'\\s+jr$', r' junior', \n",
    "        re.sub(r'\\s+sr$', r' senior', x)\n",
    "        ) for x in clean\n",
    "    ]\n",
    "    \n",
    "    return clean"
   ]
  },
  {
   "cell_type": "markdown",
   "id": "broadband-discretion",
   "metadata": {},
   "source": [
    "Apply function, creating `name` field."
   ]
  },
  {
   "cell_type": "code",
   "execution_count": 11,
   "id": "experienced-hughes",
   "metadata": {},
   "outputs": [],
   "source": [
    "bracket_df['name'] = clean_name(bracket_df, 'name_last_first')"
   ]
  },
  {
   "cell_type": "markdown",
   "id": "boxed-brake",
   "metadata": {},
   "source": [
    "Parse out the bracket number associated with each submission."
   ]
  },
  {
   "cell_type": "code",
   "execution_count": 12,
   "id": "sweet-aberdeen",
   "metadata": {},
   "outputs": [],
   "source": [
    "# filter string on digits only\n",
    "# prepend 0 to allow int conversion on empty string\n",
    "bracket_df['bracket_nbr'] = [int('0' + \"\".join(set(filter(str.isdigit, x)))) for x in bracket_df['name_last_first']]"
   ]
  },
  {
   "cell_type": "markdown",
   "id": "modified-rendering",
   "metadata": {},
   "source": [
    "`pointsgauge` does not have a delimiter, so we correct that here."
   ]
  },
  {
   "cell_type": "code",
   "execution_count": 13,
   "id": "incomplete-hacker",
   "metadata": {},
   "outputs": [],
   "source": [
    "# recreate points gauge\n",
    "bracket_df['points_gauge'] = \\\n",
    "    bracket_df['totalpoints'].astype('str') +\\\n",
    "    ' | ' +\\\n",
    "    (bracket_df['possiblepoints'] - bracket_df['totalpoints']).astype('str')"
   ]
  },
  {
   "cell_type": "code",
   "execution_count": 14,
   "id": "aging-bikini",
   "metadata": {},
   "outputs": [],
   "source": [
    "bracket_df['points_behind'] = bracket_df['totalpoints'].max() - bracket_df['totalpoints']"
   ]
  },
  {
   "cell_type": "code",
   "execution_count": 15,
   "id": "figured-aging",
   "metadata": {},
   "outputs": [
    {
     "data": {
      "text/html": [
       "<div>\n",
       "<style scoped>\n",
       "    .dataframe tbody tr th:only-of-type {\n",
       "        vertical-align: middle;\n",
       "    }\n",
       "\n",
       "    .dataframe tbody tr th {\n",
       "        vertical-align: top;\n",
       "    }\n",
       "\n",
       "    .dataframe thead th {\n",
       "        text-align: right;\n",
       "    }\n",
       "</style>\n",
       "<table border=\"1\" class=\"dataframe\">\n",
       "  <thead>\n",
       "    <tr style=\"text-align: right;\">\n",
       "      <th></th>\n",
       "      <th>place</th>\n",
       "      <th>mover_loser</th>\n",
       "      <th>name_last_first</th>\n",
       "      <th>totalpoints</th>\n",
       "      <th>possiblepoints</th>\n",
       "      <th>points_gauge</th>\n",
       "      <th>pickpct.</th>\n",
       "      <th>final_32</th>\n",
       "      <th>final_16</th>\n",
       "      <th>final_8</th>\n",
       "      <th>final_4</th>\n",
       "      <th>final_2</th>\n",
       "      <th>pickedchamp</th>\n",
       "      <th>ties</th>\n",
       "      <th>name</th>\n",
       "      <th>bracket_nbr</th>\n",
       "      <th>points_behind</th>\n",
       "    </tr>\n",
       "  </thead>\n",
       "  <tbody>\n",
       "    <tr>\n",
       "      <th>0</th>\n",
       "      <td>284</td>\n",
       "      <td>(-121)</td>\n",
       "      <td>1 Berry, Deiondrea</td>\n",
       "      <td>23</td>\n",
       "      <td>153</td>\n",
       "      <td>23 | 130</td>\n",
       "      <td>61%</td>\n",
       "      <td>21</td>\n",
       "      <td>1</td>\n",
       "      <td>0</td>\n",
       "      <td>0</td>\n",
       "      <td>0</td>\n",
       "      <td>??</td>\n",
       "      <td>78</td>\n",
       "      <td>berry deiondrea</td>\n",
       "      <td>1</td>\n",
       "      <td>9</td>\n",
       "    </tr>\n",
       "    <tr>\n",
       "      <th>1</th>\n",
       "      <td>31</td>\n",
       "      <td>(+132)</td>\n",
       "      <td>1PEDERSEN,ROBYNALAN</td>\n",
       "      <td>27</td>\n",
       "      <td>163</td>\n",
       "      <td>27 | 136</td>\n",
       "      <td>67%</td>\n",
       "      <td>21</td>\n",
       "      <td>3</td>\n",
       "      <td>0</td>\n",
       "      <td>0</td>\n",
       "      <td>0</td>\n",
       "      <td>??</td>\n",
       "      <td>20</td>\n",
       "      <td>pedersen robynalan</td>\n",
       "      <td>1</td>\n",
       "      <td>5</td>\n",
       "    </tr>\n",
       "    <tr>\n",
       "      <th>2</th>\n",
       "      <td>51</td>\n",
       "      <td>(+23)</td>\n",
       "      <td>2 Berry, Deiondrea</td>\n",
       "      <td>26</td>\n",
       "      <td>152</td>\n",
       "      <td>26 | 126</td>\n",
       "      <td>67%</td>\n",
       "      <td>22</td>\n",
       "      <td>2</td>\n",
       "      <td>0</td>\n",
       "      <td>0</td>\n",
       "      <td>0</td>\n",
       "      <td>??</td>\n",
       "      <td>62</td>\n",
       "      <td>berry deiondrea</td>\n",
       "      <td>2</td>\n",
       "      <td>6</td>\n",
       "    </tr>\n",
       "    <tr>\n",
       "      <th>3</th>\n",
       "      <td>185</td>\n",
       "      <td>(-111)</td>\n",
       "      <td>2 McNamara, justin</td>\n",
       "      <td>24</td>\n",
       "      <td>162</td>\n",
       "      <td>24 | 138</td>\n",
       "      <td>64%</td>\n",
       "      <td>22</td>\n",
       "      <td>1</td>\n",
       "      <td>0</td>\n",
       "      <td>0</td>\n",
       "      <td>0</td>\n",
       "      <td>??</td>\n",
       "      <td>99</td>\n",
       "      <td>mcnamara justin</td>\n",
       "      <td>2</td>\n",
       "      <td>8</td>\n",
       "    </tr>\n",
       "    <tr>\n",
       "      <th>4</th>\n",
       "      <td>483</td>\n",
       "      <td>(-35)</td>\n",
       "      <td>2PEDERSEN,ROBYNALAN</td>\n",
       "      <td>19</td>\n",
       "      <td>147</td>\n",
       "      <td>19 | 128</td>\n",
       "      <td>50%</td>\n",
       "      <td>17</td>\n",
       "      <td>1</td>\n",
       "      <td>0</td>\n",
       "      <td>0</td>\n",
       "      <td>0</td>\n",
       "      <td>??</td>\n",
       "      <td>19</td>\n",
       "      <td>pedersen robynalan</td>\n",
       "      <td>2</td>\n",
       "      <td>13</td>\n",
       "    </tr>\n",
       "  </tbody>\n",
       "</table>\n",
       "</div>"
      ],
      "text/plain": [
       "   place mover_loser      name_last_first  totalpoints  possiblepoints  \\\n",
       "0    284      (-121)   1 Berry, Deiondrea           23             153   \n",
       "1     31      (+132)  1PEDERSEN,ROBYNALAN           27             163   \n",
       "2     51       (+23)   2 Berry, Deiondrea           26             152   \n",
       "3    185      (-111)   2 McNamara, justin           24             162   \n",
       "4    483       (-35)  2PEDERSEN,ROBYNALAN           19             147   \n",
       "\n",
       "  points_gauge pickpct.  final_32  final_16  final_8  final_4  final_2  \\\n",
       "0     23 | 130      61%        21         1        0        0        0   \n",
       "1     27 | 136      67%        21         3        0        0        0   \n",
       "2     26 | 126      67%        22         2        0        0        0   \n",
       "3     24 | 138      64%        22         1        0        0        0   \n",
       "4     19 | 128      50%        17         1        0        0        0   \n",
       "\n",
       "  pickedchamp  ties                name  bracket_nbr  points_behind  \n",
       "0          ??    78     berry deiondrea            1              9  \n",
       "1          ??    20  pedersen robynalan            1              5  \n",
       "2          ??    62     berry deiondrea            2              6  \n",
       "3          ??    99     mcnamara justin            2              8  \n",
       "4          ??    19  pedersen robynalan            2             13  "
      ]
     },
     "execution_count": 15,
     "metadata": {},
     "output_type": "execute_result"
    }
   ],
   "source": [
    "bracket_df.head()"
   ]
  },
  {
   "cell_type": "markdown",
   "id": "similar-signal",
   "metadata": {},
   "source": [
    "future analysis to further standardize names (looking for typos, etc.)"
   ]
  },
  {
   "cell_type": "code",
   "execution_count": 16,
   "id": "interim-fiction",
   "metadata": {},
   "outputs": [],
   "source": [
    "# # %pip install python-Levenshtein\n",
    "# from Levenshtein import distance\n",
    "\n",
    "# def match(s1, s2):\n",
    "#     return distance(s1, s2) <= 1"
   ]
  },
  {
   "cell_type": "code",
   "execution_count": 17,
   "id": "improved-tobago",
   "metadata": {},
   "outputs": [],
   "source": [
    "# bracket_df['bracket_nbr'].value_counts().sort_index()"
   ]
  },
  {
   "cell_type": "code",
   "execution_count": 18,
   "id": "understanding-national",
   "metadata": {
    "scrolled": false
   },
   "outputs": [],
   "source": [
    "# pd.set_option('display.max_rows',500)\n",
    "# print(bracket_df['name'].value_counts().sort_index())"
   ]
  },
  {
   "cell_type": "code",
   "execution_count": 19,
   "id": "isolated-metropolitan",
   "metadata": {},
   "outputs": [
    {
     "name": "stdout",
     "output_type": "stream",
     "text": [
      "<class 'pandas.core.frame.DataFrame'>\n",
      "RangeIndex: 511 entries, 0 to 510\n",
      "Data columns (total 17 columns):\n",
      " #   Column           Non-Null Count  Dtype \n",
      "---  ------           --------------  ----- \n",
      " 0   place            511 non-null    int64 \n",
      " 1   mover_loser      511 non-null    object\n",
      " 2   name_last_first  511 non-null    object\n",
      " 3   totalpoints      511 non-null    int64 \n",
      " 4   possiblepoints   511 non-null    int64 \n",
      " 5   points_gauge     511 non-null    object\n",
      " 6   pickpct.         511 non-null    object\n",
      " 7   final_32         511 non-null    int64 \n",
      " 8   final_16         511 non-null    int64 \n",
      " 9   final_8          511 non-null    int64 \n",
      " 10  final_4          511 non-null    int64 \n",
      " 11  final_2          511 non-null    int64 \n",
      " 12  pickedchamp      511 non-null    object\n",
      " 13  ties             511 non-null    int64 \n",
      " 14  name             511 non-null    object\n",
      " 15  bracket_nbr      511 non-null    int64 \n",
      " 16  points_behind    511 non-null    int64 \n",
      "dtypes: int64(11), object(6)\n",
      "memory usage: 68.0+ KB\n"
     ]
    }
   ],
   "source": [
    "bracket_df.info()"
   ]
  },
  {
   "cell_type": "code",
   "execution_count": 20,
   "id": "radical-malaysia",
   "metadata": {},
   "outputs": [
    {
     "data": {
      "text/plain": [
       "(324, 16)"
      ]
     },
     "execution_count": 20,
     "metadata": {},
     "output_type": "execute_result"
    }
   ],
   "source": [
    "bracket_df.groupby(['name']).max().shape"
   ]
  },
  {
   "cell_type": "code",
   "execution_count": 21,
   "id": "stretch-alpha",
   "metadata": {
    "scrolled": false
   },
   "outputs": [],
   "source": [
    "player_df = \\\n",
    "    bracket_df.groupby(['name']).agg({\n",
    "        'bracket_nbr': 'count',\n",
    "        'place': 'min',\n",
    "        'totalpoints': 'max'\n",
    "    })"
   ]
  },
  {
   "cell_type": "code",
   "execution_count": 22,
   "id": "opened-paradise",
   "metadata": {},
   "outputs": [
    {
     "data": {
      "text/html": [
       "<div>\n",
       "<style scoped>\n",
       "    .dataframe tbody tr th:only-of-type {\n",
       "        vertical-align: middle;\n",
       "    }\n",
       "\n",
       "    .dataframe tbody tr th {\n",
       "        vertical-align: top;\n",
       "    }\n",
       "\n",
       "    .dataframe thead th {\n",
       "        text-align: right;\n",
       "    }\n",
       "</style>\n",
       "<table border=\"1\" class=\"dataframe\">\n",
       "  <thead>\n",
       "    <tr style=\"text-align: right;\">\n",
       "      <th></th>\n",
       "      <th>bracket_nbr</th>\n",
       "      <th>place</th>\n",
       "      <th>totalpoints</th>\n",
       "    </tr>\n",
       "  </thead>\n",
       "  <tbody>\n",
       "    <tr>\n",
       "      <th>count</th>\n",
       "      <td>324.000000</td>\n",
       "      <td>324.000000</td>\n",
       "      <td>324.000000</td>\n",
       "    </tr>\n",
       "    <tr>\n",
       "      <th>mean</th>\n",
       "      <td>1.577160</td>\n",
       "      <td>200.274691</td>\n",
       "      <td>24.070988</td>\n",
       "    </tr>\n",
       "    <tr>\n",
       "      <th>std</th>\n",
       "      <td>0.997009</td>\n",
       "      <td>147.284865</td>\n",
       "      <td>2.523798</td>\n",
       "    </tr>\n",
       "    <tr>\n",
       "      <th>min</th>\n",
       "      <td>1.000000</td>\n",
       "      <td>1.000000</td>\n",
       "      <td>17.000000</td>\n",
       "    </tr>\n",
       "    <tr>\n",
       "      <th>25%</th>\n",
       "      <td>1.000000</td>\n",
       "      <td>51.000000</td>\n",
       "      <td>23.000000</td>\n",
       "    </tr>\n",
       "    <tr>\n",
       "      <th>50%</th>\n",
       "      <td>1.000000</td>\n",
       "      <td>185.000000</td>\n",
       "      <td>24.000000</td>\n",
       "    </tr>\n",
       "    <tr>\n",
       "      <th>75%</th>\n",
       "      <td>2.000000</td>\n",
       "      <td>284.000000</td>\n",
       "      <td>26.000000</td>\n",
       "    </tr>\n",
       "    <tr>\n",
       "      <th>max</th>\n",
       "      <td>8.000000</td>\n",
       "      <td>509.000000</td>\n",
       "      <td>32.000000</td>\n",
       "    </tr>\n",
       "  </tbody>\n",
       "</table>\n",
       "</div>"
      ],
      "text/plain": [
       "       bracket_nbr       place  totalpoints\n",
       "count   324.000000  324.000000   324.000000\n",
       "mean      1.577160  200.274691    24.070988\n",
       "std       0.997009  147.284865     2.523798\n",
       "min       1.000000    1.000000    17.000000\n",
       "25%       1.000000   51.000000    23.000000\n",
       "50%       1.000000  185.000000    24.000000\n",
       "75%       2.000000  284.000000    26.000000\n",
       "max       8.000000  509.000000    32.000000"
      ]
     },
     "execution_count": 22,
     "metadata": {},
     "output_type": "execute_result"
    }
   ],
   "source": [
    "player_df.describe()"
   ]
  },
  {
   "cell_type": "code",
   "execution_count": 23,
   "id": "academic-nudist",
   "metadata": {},
   "outputs": [],
   "source": [
    "player_bracket_dist = pd.DataFrame(player_df['bracket_nbr'].value_counts())\n",
    "player_bracket_dist = player_bracket_dist.rename({'bracket_nbr': 'player_cnt'}, axis=1)  # rename\n",
    "\n",
    "player_bracket_dist['player_pct'] = player_bracket_dist['player_cnt'] / player_bracket_dist['player_cnt'].sum()\n",
    "player_bracket_dist['bracket_cnt'] = player_bracket_dist['player_cnt'] * player_bracket_dist.index\n",
    "player_bracket_dist['bracket_pct'] = player_bracket_dist['bracket_cnt'] / player_bracket_dist['bracket_cnt'].sum()"
   ]
  },
  {
   "cell_type": "markdown",
   "id": "dependent-conclusion",
   "metadata": {},
   "source": [
    "Player-level bracket stats"
   ]
  },
  {
   "cell_type": "code",
   "execution_count": 24,
   "id": "frequent-disposition",
   "metadata": {},
   "outputs": [
    {
     "data": {
      "text/html": [
       "<div>\n",
       "<style scoped>\n",
       "    .dataframe tbody tr th:only-of-type {\n",
       "        vertical-align: middle;\n",
       "    }\n",
       "\n",
       "    .dataframe tbody tr th {\n",
       "        vertical-align: top;\n",
       "    }\n",
       "\n",
       "    .dataframe thead th {\n",
       "        text-align: right;\n",
       "    }\n",
       "</style>\n",
       "<table border=\"1\" class=\"dataframe\">\n",
       "  <thead>\n",
       "    <tr style=\"text-align: right;\">\n",
       "      <th></th>\n",
       "      <th>player_cnt</th>\n",
       "      <th>player_pct</th>\n",
       "      <th>bracket_cnt</th>\n",
       "      <th>bracket_pct</th>\n",
       "    </tr>\n",
       "  </thead>\n",
       "  <tbody>\n",
       "    <tr>\n",
       "      <th>1</th>\n",
       "      <td>211</td>\n",
       "      <td>0.651235</td>\n",
       "      <td>211</td>\n",
       "      <td>0.412916</td>\n",
       "    </tr>\n",
       "    <tr>\n",
       "      <th>2</th>\n",
       "      <td>67</td>\n",
       "      <td>0.206790</td>\n",
       "      <td>134</td>\n",
       "      <td>0.262231</td>\n",
       "    </tr>\n",
       "    <tr>\n",
       "      <th>3</th>\n",
       "      <td>29</td>\n",
       "      <td>0.089506</td>\n",
       "      <td>87</td>\n",
       "      <td>0.170254</td>\n",
       "    </tr>\n",
       "    <tr>\n",
       "      <th>4</th>\n",
       "      <td>11</td>\n",
       "      <td>0.033951</td>\n",
       "      <td>44</td>\n",
       "      <td>0.086106</td>\n",
       "    </tr>\n",
       "    <tr>\n",
       "      <th>5</th>\n",
       "      <td>3</td>\n",
       "      <td>0.009259</td>\n",
       "      <td>15</td>\n",
       "      <td>0.029354</td>\n",
       "    </tr>\n",
       "    <tr>\n",
       "      <th>6</th>\n",
       "      <td>2</td>\n",
       "      <td>0.006173</td>\n",
       "      <td>12</td>\n",
       "      <td>0.023483</td>\n",
       "    </tr>\n",
       "    <tr>\n",
       "      <th>8</th>\n",
       "      <td>1</td>\n",
       "      <td>0.003086</td>\n",
       "      <td>8</td>\n",
       "      <td>0.015656</td>\n",
       "    </tr>\n",
       "  </tbody>\n",
       "</table>\n",
       "</div>"
      ],
      "text/plain": [
       "   player_cnt  player_pct  bracket_cnt  bracket_pct\n",
       "1         211    0.651235          211     0.412916\n",
       "2          67    0.206790          134     0.262231\n",
       "3          29    0.089506           87     0.170254\n",
       "4          11    0.033951           44     0.086106\n",
       "5           3    0.009259           15     0.029354\n",
       "6           2    0.006173           12     0.023483\n",
       "8           1    0.003086            8     0.015656"
      ]
     },
     "execution_count": 24,
     "metadata": {},
     "output_type": "execute_result"
    }
   ],
   "source": [
    "player_bracket_dist"
   ]
  },
  {
   "cell_type": "markdown",
   "id": "understood-visibility",
   "metadata": {},
   "source": [
    "Dashboard of the Fiorio's"
   ]
  },
  {
   "cell_type": "code",
   "execution_count": 25,
   "id": "descending-excitement",
   "metadata": {},
   "outputs": [],
   "source": [
    "keep_cols = [\n",
    "    'name', 'place', 'ties', 'mover_loser', 'totalpoints',\n",
    "    'points_behind', 'possiblepoints', 'pickpct.', 'pickedchamp'\n",
    "    ]"
   ]
  },
  {
   "cell_type": "code",
   "execution_count": 26,
   "id": "moved-desert",
   "metadata": {},
   "outputs": [],
   "source": [
    "pattern = 'fiorio|rasdorf|thomas billy'\n",
    "fiorio_index = np.where(bracket_df['name'].str.contains(pattern, regex = True))[0]"
   ]
  },
  {
   "cell_type": "code",
   "execution_count": 27,
   "id": "rubber-mambo",
   "metadata": {},
   "outputs": [
    {
     "name": "stdout",
     "output_type": "stream",
     "text": [
      "3/21/2021 at 8:26 PM ET\n"
     ]
    },
    {
     "data": {
      "text/html": [
       "<style  type=\"text/css\" >\n",
       "</style><table id=\"T_b89f5928_8ac2_11eb_92cc_1e29c0002536\" ><thead>    <tr>        <th class=\"col_heading level0 col0\" >name</th>        <th class=\"col_heading level0 col1\" >place</th>        <th class=\"col_heading level0 col2\" >ties</th>        <th class=\"col_heading level0 col3\" >mover_loser</th>        <th class=\"col_heading level0 col4\" >totalpoints</th>        <th class=\"col_heading level0 col5\" >points_behind</th>        <th class=\"col_heading level0 col6\" >possiblepoints</th>        <th class=\"col_heading level0 col7\" >pickpct.</th>        <th class=\"col_heading level0 col8\" >pickedchamp</th>    </tr></thead><tbody>\n",
       "                <tr>\n",
       "                                <td id=\"T_b89f5928_8ac2_11eb_92cc_1e29c0002536row0_col0\" class=\"data row0 col0\" >fiorio leslie</td>\n",
       "                        <td id=\"T_b89f5928_8ac2_11eb_92cc_1e29c0002536row0_col1\" class=\"data row0 col1\" >31</td>\n",
       "                        <td id=\"T_b89f5928_8ac2_11eb_92cc_1e29c0002536row0_col2\" class=\"data row0 col2\" >20</td>\n",
       "                        <td id=\"T_b89f5928_8ac2_11eb_92cc_1e29c0002536row0_col3\" class=\"data row0 col3\" >(+3)</td>\n",
       "                        <td id=\"T_b89f5928_8ac2_11eb_92cc_1e29c0002536row0_col4\" class=\"data row0 col4\" >27</td>\n",
       "                        <td id=\"T_b89f5928_8ac2_11eb_92cc_1e29c0002536row0_col5\" class=\"data row0 col5\" >5</td>\n",
       "                        <td id=\"T_b89f5928_8ac2_11eb_92cc_1e29c0002536row0_col6\" class=\"data row0 col6\" >165</td>\n",
       "                        <td id=\"T_b89f5928_8ac2_11eb_92cc_1e29c0002536row0_col7\" class=\"data row0 col7\" >69%</td>\n",
       "                        <td id=\"T_b89f5928_8ac2_11eb_92cc_1e29c0002536row0_col8\" class=\"data row0 col8\" >??</td>\n",
       "            </tr>\n",
       "            <tr>\n",
       "                                <td id=\"T_b89f5928_8ac2_11eb_92cc_1e29c0002536row1_col0\" class=\"data row1 col0\" >fiorio livio</td>\n",
       "                        <td id=\"T_b89f5928_8ac2_11eb_92cc_1e29c0002536row1_col1\" class=\"data row1 col1\" >113</td>\n",
       "                        <td id=\"T_b89f5928_8ac2_11eb_92cc_1e29c0002536row1_col2\" class=\"data row1 col2\" >72</td>\n",
       "                        <td id=\"T_b89f5928_8ac2_11eb_92cc_1e29c0002536row1_col3\" class=\"data row1 col3\" >(+50)</td>\n",
       "                        <td id=\"T_b89f5928_8ac2_11eb_92cc_1e29c0002536row1_col4\" class=\"data row1 col4\" >25</td>\n",
       "                        <td id=\"T_b89f5928_8ac2_11eb_92cc_1e29c0002536row1_col5\" class=\"data row1 col5\" >7</td>\n",
       "                        <td id=\"T_b89f5928_8ac2_11eb_92cc_1e29c0002536row1_col6\" class=\"data row1 col6\" >135</td>\n",
       "                        <td id=\"T_b89f5928_8ac2_11eb_92cc_1e29c0002536row1_col7\" class=\"data row1 col7\" >64%</td>\n",
       "                        <td id=\"T_b89f5928_8ac2_11eb_92cc_1e29c0002536row1_col8\" class=\"data row1 col8\" >??</td>\n",
       "            </tr>\n",
       "            <tr>\n",
       "                                <td id=\"T_b89f5928_8ac2_11eb_92cc_1e29c0002536row2_col0\" class=\"data row2 col0\" >rasdorf andy</td>\n",
       "                        <td id=\"T_b89f5928_8ac2_11eb_92cc_1e29c0002536row2_col1\" class=\"data row2 col1\" >113</td>\n",
       "                        <td id=\"T_b89f5928_8ac2_11eb_92cc_1e29c0002536row2_col2\" class=\"data row2 col2\" >72</td>\n",
       "                        <td id=\"T_b89f5928_8ac2_11eb_92cc_1e29c0002536row2_col3\" class=\"data row2 col3\" >(+50)</td>\n",
       "                        <td id=\"T_b89f5928_8ac2_11eb_92cc_1e29c0002536row2_col4\" class=\"data row2 col4\" >25</td>\n",
       "                        <td id=\"T_b89f5928_8ac2_11eb_92cc_1e29c0002536row2_col5\" class=\"data row2 col5\" >7</td>\n",
       "                        <td id=\"T_b89f5928_8ac2_11eb_92cc_1e29c0002536row2_col6\" class=\"data row2 col6\" >125</td>\n",
       "                        <td id=\"T_b89f5928_8ac2_11eb_92cc_1e29c0002536row2_col7\" class=\"data row2 col7\" >64%</td>\n",
       "                        <td id=\"T_b89f5928_8ac2_11eb_92cc_1e29c0002536row2_col8\" class=\"data row2 col8\" >??</td>\n",
       "            </tr>\n",
       "            <tr>\n",
       "                                <td id=\"T_b89f5928_8ac2_11eb_92cc_1e29c0002536row3_col0\" class=\"data row3 col0\" >fiorio marianne</td>\n",
       "                        <td id=\"T_b89f5928_8ac2_11eb_92cc_1e29c0002536row3_col1\" class=\"data row3 col1\" >185</td>\n",
       "                        <td id=\"T_b89f5928_8ac2_11eb_92cc_1e29c0002536row3_col2\" class=\"data row3 col2\" >99</td>\n",
       "                        <td id=\"T_b89f5928_8ac2_11eb_92cc_1e29c0002536row3_col3\" class=\"data row3 col3\" >(+62)</td>\n",
       "                        <td id=\"T_b89f5928_8ac2_11eb_92cc_1e29c0002536row3_col4\" class=\"data row3 col4\" >24</td>\n",
       "                        <td id=\"T_b89f5928_8ac2_11eb_92cc_1e29c0002536row3_col5\" class=\"data row3 col5\" >8</td>\n",
       "                        <td id=\"T_b89f5928_8ac2_11eb_92cc_1e29c0002536row3_col6\" class=\"data row3 col6\" >158</td>\n",
       "                        <td id=\"T_b89f5928_8ac2_11eb_92cc_1e29c0002536row3_col7\" class=\"data row3 col7\" >61%</td>\n",
       "                        <td id=\"T_b89f5928_8ac2_11eb_92cc_1e29c0002536row3_col8\" class=\"data row3 col8\" >??</td>\n",
       "            </tr>\n",
       "            <tr>\n",
       "                                <td id=\"T_b89f5928_8ac2_11eb_92cc_1e29c0002536row4_col0\" class=\"data row4 col0\" >fiorio luke</td>\n",
       "                        <td id=\"T_b89f5928_8ac2_11eb_92cc_1e29c0002536row4_col1\" class=\"data row4 col1\" >452</td>\n",
       "                        <td id=\"T_b89f5928_8ac2_11eb_92cc_1e29c0002536row4_col2\" class=\"data row4 col2\" >31</td>\n",
       "                        <td id=\"T_b89f5928_8ac2_11eb_92cc_1e29c0002536row4_col3\" class=\"data row4 col3\" >(+31)</td>\n",
       "                        <td id=\"T_b89f5928_8ac2_11eb_92cc_1e29c0002536row4_col4\" class=\"data row4 col4\" >20</td>\n",
       "                        <td id=\"T_b89f5928_8ac2_11eb_92cc_1e29c0002536row4_col5\" class=\"data row4 col5\" >12</td>\n",
       "                        <td id=\"T_b89f5928_8ac2_11eb_92cc_1e29c0002536row4_col6\" class=\"data row4 col6\" >158</td>\n",
       "                        <td id=\"T_b89f5928_8ac2_11eb_92cc_1e29c0002536row4_col7\" class=\"data row4 col7\" >50%</td>\n",
       "                        <td id=\"T_b89f5928_8ac2_11eb_92cc_1e29c0002536row4_col8\" class=\"data row4 col8\" >??</td>\n",
       "            </tr>\n",
       "            <tr>\n",
       "                                <td id=\"T_b89f5928_8ac2_11eb_92cc_1e29c0002536row5_col0\" class=\"data row5 col0\" >fiorio julia</td>\n",
       "                        <td id=\"T_b89f5928_8ac2_11eb_92cc_1e29c0002536row5_col1\" class=\"data row5 col1\" >452</td>\n",
       "                        <td id=\"T_b89f5928_8ac2_11eb_92cc_1e29c0002536row5_col2\" class=\"data row5 col2\" >31</td>\n",
       "                        <td id=\"T_b89f5928_8ac2_11eb_92cc_1e29c0002536row5_col3\" class=\"data row5 col3\" >(+31)</td>\n",
       "                        <td id=\"T_b89f5928_8ac2_11eb_92cc_1e29c0002536row5_col4\" class=\"data row5 col4\" >20</td>\n",
       "                        <td id=\"T_b89f5928_8ac2_11eb_92cc_1e29c0002536row5_col5\" class=\"data row5 col5\" >12</td>\n",
       "                        <td id=\"T_b89f5928_8ac2_11eb_92cc_1e29c0002536row5_col6\" class=\"data row5 col6\" >96</td>\n",
       "                        <td id=\"T_b89f5928_8ac2_11eb_92cc_1e29c0002536row5_col7\" class=\"data row5 col7\" >50%</td>\n",
       "                        <td id=\"T_b89f5928_8ac2_11eb_92cc_1e29c0002536row5_col8\" class=\"data row5 col8\" >NO</td>\n",
       "            </tr>\n",
       "            <tr>\n",
       "                                <td id=\"T_b89f5928_8ac2_11eb_92cc_1e29c0002536row6_col0\" class=\"data row6 col0\" >fiorio mara</td>\n",
       "                        <td id=\"T_b89f5928_8ac2_11eb_92cc_1e29c0002536row6_col1\" class=\"data row6 col1\" >483</td>\n",
       "                        <td id=\"T_b89f5928_8ac2_11eb_92cc_1e29c0002536row6_col2\" class=\"data row6 col2\" >19</td>\n",
       "                        <td id=\"T_b89f5928_8ac2_11eb_92cc_1e29c0002536row6_col3\" class=\"data row6 col3\" >(-35)</td>\n",
       "                        <td id=\"T_b89f5928_8ac2_11eb_92cc_1e29c0002536row6_col4\" class=\"data row6 col4\" >19</td>\n",
       "                        <td id=\"T_b89f5928_8ac2_11eb_92cc_1e29c0002536row6_col5\" class=\"data row6 col5\" >13</td>\n",
       "                        <td id=\"T_b89f5928_8ac2_11eb_92cc_1e29c0002536row6_col6\" class=\"data row6 col6\" >67</td>\n",
       "                        <td id=\"T_b89f5928_8ac2_11eb_92cc_1e29c0002536row6_col7\" class=\"data row6 col7\" >50%</td>\n",
       "                        <td id=\"T_b89f5928_8ac2_11eb_92cc_1e29c0002536row6_col8\" class=\"data row6 col8\" >NO</td>\n",
       "            </tr>\n",
       "            <tr>\n",
       "                                <td id=\"T_b89f5928_8ac2_11eb_92cc_1e29c0002536row7_col0\" class=\"data row7 col0\" >thomas billy</td>\n",
       "                        <td id=\"T_b89f5928_8ac2_11eb_92cc_1e29c0002536row7_col1\" class=\"data row7 col1\" >509</td>\n",
       "                        <td id=\"T_b89f5928_8ac2_11eb_92cc_1e29c0002536row7_col2\" class=\"data row7 col2\" >2</td>\n",
       "                        <td id=\"T_b89f5928_8ac2_11eb_92cc_1e29c0002536row7_col3\" class=\"data row7 col3\" >(-10)</td>\n",
       "                        <td id=\"T_b89f5928_8ac2_11eb_92cc_1e29c0002536row7_col4\" class=\"data row7 col4\" >17</td>\n",
       "                        <td id=\"T_b89f5928_8ac2_11eb_92cc_1e29c0002536row7_col5\" class=\"data row7 col5\" >15</td>\n",
       "                        <td id=\"T_b89f5928_8ac2_11eb_92cc_1e29c0002536row7_col6\" class=\"data row7 col6\" >117</td>\n",
       "                        <td id=\"T_b89f5928_8ac2_11eb_92cc_1e29c0002536row7_col7\" class=\"data row7 col7\" >44%</td>\n",
       "                        <td id=\"T_b89f5928_8ac2_11eb_92cc_1e29c0002536row7_col8\" class=\"data row7 col8\" >??</td>\n",
       "            </tr>\n",
       "    </tbody></table>"
      ],
      "text/plain": [
       "<pandas.io.formats.style.Styler at 0x7ff6b02df160>"
      ]
     },
     "execution_count": 27,
     "metadata": {},
     "output_type": "execute_result"
    }
   ],
   "source": [
    "print(as_of_date)\n",
    "\n",
    "bracket_df[keep_cols].iloc[fiorio_index, :].\\\n",
    "    sort_values(['totalpoints', 'possiblepoints'], ascending=[False, False]).\\\n",
    "    style.hide_index()"
   ]
  }
 ],
 "metadata": {
  "kernelspec": {
   "display_name": "Python 3",
   "language": "python",
   "name": "python3"
  },
  "language_info": {
   "codemirror_mode": {
    "name": "ipython",
    "version": 3
   },
   "file_extension": ".py",
   "mimetype": "text/x-python",
   "name": "python",
   "nbconvert_exporter": "python",
   "pygments_lexer": "ipython3",
   "version": "3.6.13"
  }
 },
 "nbformat": 4,
 "nbformat_minor": 5
}
